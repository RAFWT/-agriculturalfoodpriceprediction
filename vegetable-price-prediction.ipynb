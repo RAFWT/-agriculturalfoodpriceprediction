{
 "cells": [
  {
   "cell_type": "code",
   "execution_count": 6,
   "metadata": {
    "_cell_guid": "b1076dfc-b9ad-4769-8c92-a6c4dae69d19",
    "_uuid": "8f2839f25d086af736a60e9eeb907d3b93b6e0e5"
   },
   "outputs": [],
   "source": [
    "#importing libraries\n",
    "\n",
    "import pandas as pd\n",
    "import sklearn as sk\n",
    "\n",
    "import numpy as np\n",
    "from sklearn.metrics import mean_squared_error\n",
    "from sklearn.model_selection import train_test_split #preprocessing\n",
    "from sklearn.linear_model import LinearRegression\n",
    "\n",
    "import seaborn as sns\n",
    "from IPython.display import display\n",
    "import matplotlib.pyplot as plt  # Matlab-style plotting\n",
    "\n",
    "import os\n",
    "for dirname, _, filenames in os.walk('/kaggle/input'):\n",
    "    for filename in filenames:   \n",
    "        print(os.path.join(dirname, filename))"
   ]
  },
  {
   "cell_type": "code",
   "execution_count": 11,
   "metadata": {},
   "outputs": [],
   "source": [
    "data = pd.read_csv('Vegetable-and-Fruits-Prices-in-India.csv')"
   ]
  },
  {
   "cell_type": "code",
   "execution_count": 8,
   "metadata": {},
   "outputs": [
    {
     "data": {
      "text/plain": [
       "'G:\\\\MCA\\\\6thSem\\\\myproject\\\\Vegetable-and-Fruite-Price-Prediction-main'"
      ]
     },
     "execution_count": 8,
     "metadata": {},
     "output_type": "execute_result"
    }
   ],
   "source": [
    "os.getcwd()"
   ]
  },
  {
   "cell_type": "code",
   "execution_count": 9,
   "metadata": {
    "scrolled": true
   },
   "outputs": [
    {
     "data": {
      "text/html": [
       "<div>\n",
       "<style scoped>\n",
       "    .dataframe tbody tr th:only-of-type {\n",
       "        vertical-align: middle;\n",
       "    }\n",
       "\n",
       "    .dataframe tbody tr th {\n",
       "        vertical-align: top;\n",
       "    }\n",
       "\n",
       "    .dataframe thead th {\n",
       "        text-align: right;\n",
       "    }\n",
       "</style>\n",
       "<table border=\"1\" class=\"dataframe\">\n",
       "  <thead>\n",
       "    <tr style=\"text-align: right;\">\n",
       "      <th></th>\n",
       "      <th>datesk</th>\n",
       "      <th>Item Name</th>\n",
       "      <th>Date</th>\n",
       "      <th>price</th>\n",
       "    </tr>\n",
       "  </thead>\n",
       "  <tbody>\n",
       "    <tr>\n",
       "      <th>0</th>\n",
       "      <td>20110101</td>\n",
       "      <td>Kashini greens</td>\n",
       "      <td>1/1/2011</td>\n",
       "      <td>NaN</td>\n",
       "    </tr>\n",
       "    <tr>\n",
       "      <th>1</th>\n",
       "      <td>20110101</td>\n",
       "      <td>Pineapple juice</td>\n",
       "      <td>1/1/2011</td>\n",
       "      <td>NaN</td>\n",
       "    </tr>\n",
       "    <tr>\n",
       "      <th>2</th>\n",
       "      <td>20110101</td>\n",
       "      <td>Thailand Juice</td>\n",
       "      <td>1/1/2011</td>\n",
       "      <td>NaN</td>\n",
       "    </tr>\n",
       "    <tr>\n",
       "      <th>3</th>\n",
       "      <td>20110101</td>\n",
       "      <td>Thailand Jelly</td>\n",
       "      <td>1/1/2011</td>\n",
       "      <td>NaN</td>\n",
       "    </tr>\n",
       "    <tr>\n",
       "      <th>4</th>\n",
       "      <td>20110101</td>\n",
       "      <td>Orange juice</td>\n",
       "      <td>1/1/2011</td>\n",
       "      <td>NaN</td>\n",
       "    </tr>\n",
       "    <tr>\n",
       "      <th>...</th>\n",
       "      <td>...</td>\n",
       "      <td>...</td>\n",
       "      <td>...</td>\n",
       "      <td>...</td>\n",
       "    </tr>\n",
       "    <tr>\n",
       "      <th>1009819</th>\n",
       "      <td>20201231</td>\n",
       "      <td>Mint Leaves</td>\n",
       "      <td>31/12/2020</td>\n",
       "      <td>NaN</td>\n",
       "    </tr>\n",
       "    <tr>\n",
       "      <th>1009820</th>\n",
       "      <td>20201231</td>\n",
       "      <td>Chillies small (C.B.P)</td>\n",
       "      <td>31/12/2020</td>\n",
       "      <td>NaN</td>\n",
       "    </tr>\n",
       "    <tr>\n",
       "      <th>1009821</th>\n",
       "      <td>20201231</td>\n",
       "      <td>Pumpkin Red</td>\n",
       "      <td>31/12/2020</td>\n",
       "      <td>NaN</td>\n",
       "    </tr>\n",
       "    <tr>\n",
       "      <th>1009822</th>\n",
       "      <td>20201231</td>\n",
       "      <td>Potato(M)</td>\n",
       "      <td>31/12/2020</td>\n",
       "      <td>NaN</td>\n",
       "    </tr>\n",
       "    <tr>\n",
       "      <th>1009823</th>\n",
       "      <td>20201231</td>\n",
       "      <td>Potato(B)</td>\n",
       "      <td>31/12/2020</td>\n",
       "      <td>30.0</td>\n",
       "    </tr>\n",
       "  </tbody>\n",
       "</table>\n",
       "<p>1009824 rows × 4 columns</p>\n",
       "</div>"
      ],
      "text/plain": [
       "           datesk               Item Name        Date  price\n",
       "0        20110101          Kashini greens    1/1/2011    NaN\n",
       "1        20110101         Pineapple juice    1/1/2011    NaN\n",
       "2        20110101          Thailand Juice    1/1/2011    NaN\n",
       "3        20110101          Thailand Jelly    1/1/2011    NaN\n",
       "4        20110101            Orange juice    1/1/2011    NaN\n",
       "...           ...                     ...         ...    ...\n",
       "1009819  20201231             Mint Leaves  31/12/2020    NaN\n",
       "1009820  20201231  Chillies small (C.B.P)  31/12/2020    NaN\n",
       "1009821  20201231             Pumpkin Red  31/12/2020    NaN\n",
       "1009822  20201231               Potato(M)  31/12/2020    NaN\n",
       "1009823  20201231               Potato(B)  31/12/2020   30.0\n",
       "\n",
       "[1009824 rows x 4 columns]"
      ]
     },
     "execution_count": 9,
     "metadata": {},
     "output_type": "execute_result"
    }
   ],
   "source": [
    "data"
   ]
  },
  {
   "cell_type": "code",
   "execution_count": null,
   "metadata": {
    "scrolled": true
   },
   "outputs": [],
   "source": [
    "#Feature Engineering"
   ]
  },
  {
   "cell_type": "code",
   "execution_count": 10,
   "metadata": {},
   "outputs": [
    {
     "data": {
      "text/html": [
       "<div>\n",
       "<style scoped>\n",
       "    .dataframe tbody tr th:only-of-type {\n",
       "        vertical-align: middle;\n",
       "    }\n",
       "\n",
       "    .dataframe tbody tr th {\n",
       "        vertical-align: top;\n",
       "    }\n",
       "\n",
       "    .dataframe thead th {\n",
       "        text-align: right;\n",
       "    }\n",
       "</style>\n",
       "<table border=\"1\" class=\"dataframe\">\n",
       "  <thead>\n",
       "    <tr style=\"text-align: right;\">\n",
       "      <th></th>\n",
       "      <th>datesk</th>\n",
       "      <th>Item Name</th>\n",
       "      <th>Date</th>\n",
       "      <th>price</th>\n",
       "    </tr>\n",
       "  </thead>\n",
       "  <tbody>\n",
       "    <tr>\n",
       "      <th>760110</th>\n",
       "      <td>20170406</td>\n",
       "      <td>Amla</td>\n",
       "      <td>6/4/2017</td>\n",
       "      <td>78.0</td>\n",
       "    </tr>\n",
       "    <tr>\n",
       "      <th>192237</th>\n",
       "      <td>20120731</td>\n",
       "      <td>Amla</td>\n",
       "      <td>31-07-2012</td>\n",
       "      <td>76.0</td>\n",
       "    </tr>\n",
       "    <tr>\n",
       "      <th>73267</th>\n",
       "      <td>20110809</td>\n",
       "      <td>Amla</td>\n",
       "      <td>9/8/2011</td>\n",
       "      <td>35.0</td>\n",
       "    </tr>\n",
       "    <tr>\n",
       "      <th>406350</th>\n",
       "      <td>20140507</td>\n",
       "      <td>Amla</td>\n",
       "      <td>7/5/2014</td>\n",
       "      <td>60.0</td>\n",
       "    </tr>\n",
       "    <tr>\n",
       "      <th>353473</th>\n",
       "      <td>20131127</td>\n",
       "      <td>Amla</td>\n",
       "      <td>27/11/2013</td>\n",
       "      <td>30.0</td>\n",
       "    </tr>\n",
       "    <tr>\n",
       "      <th>...</th>\n",
       "      <td>...</td>\n",
       "      <td>...</td>\n",
       "      <td>...</td>\n",
       "      <td>...</td>\n",
       "    </tr>\n",
       "    <tr>\n",
       "      <th>1009457</th>\n",
       "      <td>20201230</td>\n",
       "      <td>NaN</td>\n",
       "      <td>30/12/2020</td>\n",
       "      <td>NaN</td>\n",
       "    </tr>\n",
       "    <tr>\n",
       "      <th>1009458</th>\n",
       "      <td>20201230</td>\n",
       "      <td>NaN</td>\n",
       "      <td>30/12/2020</td>\n",
       "      <td>NaN</td>\n",
       "    </tr>\n",
       "    <tr>\n",
       "      <th>1009815</th>\n",
       "      <td>20201231</td>\n",
       "      <td>NaN</td>\n",
       "      <td>31/12/2020</td>\n",
       "      <td>NaN</td>\n",
       "    </tr>\n",
       "    <tr>\n",
       "      <th>1009816</th>\n",
       "      <td>20201231</td>\n",
       "      <td>NaN</td>\n",
       "      <td>31/12/2020</td>\n",
       "      <td>NaN</td>\n",
       "    </tr>\n",
       "    <tr>\n",
       "      <th>1009817</th>\n",
       "      <td>20201231</td>\n",
       "      <td>NaN</td>\n",
       "      <td>31/12/2020</td>\n",
       "      <td>NaN</td>\n",
       "    </tr>\n",
       "  </tbody>\n",
       "</table>\n",
       "<p>1009493 rows × 4 columns</p>\n",
       "</div>"
      ],
      "text/plain": [
       "           datesk Item Name        Date  price\n",
       "760110   20170406      Amla    6/4/2017   78.0\n",
       "192237   20120731      Amla  31-07-2012   76.0\n",
       "73267    20110809      Amla    9/8/2011   35.0\n",
       "406350   20140507      Amla    7/5/2014   60.0\n",
       "353473   20131127      Amla  27/11/2013   30.0\n",
       "...           ...       ...         ...    ...\n",
       "1009457  20201230       NaN  30/12/2020    NaN\n",
       "1009458  20201230       NaN  30/12/2020    NaN\n",
       "1009815  20201231       NaN  31/12/2020    NaN\n",
       "1009816  20201231       NaN  31/12/2020    NaN\n",
       "1009817  20201231       NaN  31/12/2020    NaN\n",
       "\n",
       "[1009493 rows x 4 columns]"
      ]
     },
     "execution_count": 10,
     "metadata": {},
     "output_type": "execute_result"
    }
   ],
   "source": [
    "data.sort_values(\"Item Name\", inplace = True)\n",
    "  \n",
    "# making a bool series\n",
    "bool_series = data[\"Item Name\"].duplicated()\n",
    "  \n",
    "# displaying data\n",
    "data.head()\n",
    "  \n",
    "# display data\n",
    "data[bool_series]"
   ]
  },
  {
   "cell_type": "code",
   "execution_count": null,
   "metadata": {
    "_cell_guid": "79c7e3d0-c299-4dcb-8224-4455121ee9b0",
    "_uuid": "d629ff2d2480ee46fbb7e2d37f6b5fab8052498a",
    "scrolled": true
   },
   "outputs": [],
   "source": [
    "#load the data into a Pandas dataframe\n",
    "#data = pd.read_csv('Vegetable-and-Fruits-Prices-in-India.csv')\n",
    "\n",
    "print(\"Training Data\")\n",
    "display(data)\n",
    "\n",
    "#look for duplicate data, invalid data or corrupt data and remove it\n",
    "data.duplicated().sum()\n",
    "                                    \n",
    "def isDataMissing(DataToCheck):\n",
    "#missing data\n",
    "    total = DataToCheck.isnull().sum().sort_values(ascending=False)\n",
    "    percent = (DataToCheck.isnull().sum()/DataToCheck.isnull().count()).sort_values(ascending=False)\n",
    "    missing_data = pd.concat([total, percent], axis=1, keys=['Total', 'Percent'])\n",
    "    display(missing_data.head(30))\n",
    "    "
   ]
  },
  {
   "cell_type": "code",
   "execution_count": null,
   "metadata": {},
   "outputs": [],
   "source": [
    "data.sort_values(\"Item Name\", inplace = True)\n",
    "display(data)"
   ]
  },
  {
   "cell_type": "code",
   "execution_count": null,
   "metadata": {},
   "outputs": [],
   "source": [
    "uniqueValues = data['Item Name'].unique()\n",
    "print('Unique elements in column \"Item Name\" ')\n",
    "print(uniqueValues)"
   ]
  },
  {
   "cell_type": "code",
   "execution_count": null,
   "metadata": {},
   "outputs": [],
   "source": [
    "uniqueValues = data['Item Name'].nunique()\n",
    "print('Number of unique values in column \"Item Name\" of the dataframe : ')\n",
    "print(uniqueValues)"
   ]
  },
  {
   "cell_type": "code",
   "execution_count": null,
   "metadata": {},
   "outputs": [],
   "source": [
    "print(\"Check for Missing Data in Training Set\")\n",
    "isDataMissing(data)\n",
    "#no /total"
   ]
  },
  {
   "cell_type": "code",
   "execution_count": null,
   "metadata": {},
   "outputs": [],
   "source": [
    "                                                                                                                                                                                                            "
   ]
  },
  {
   "cell_type": "code",
   "execution_count": null,
   "metadata": {},
   "outputs": [],
   "source": [
    "#Since Datesk is id field so removing it\n",
    "data.drop(columns =['datesk'],inplace=True)\n",
    "print(\"Removing rows where item name is blank\")\n",
    "#Remove rows where item name is blank \n",
    "data = data[~data['Item Name'].isnull()]\n",
    "display(data)\n",
    "#Extract year from date column\n",
    "data['Date'] = pd.to_datetime(data['Date'])\n",
    "data['year'] = data['Date'].dt.year\n",
    "data.drop(columns='Date',inplace=True)"
   ]
  },
  {
   "cell_type": "code",
   "execution_count": null,
   "metadata": {},
   "outputs": [],
   "source": [
    "uniqueValues = data['Item Name'].unique()\n",
    "print('Unique elements in column \"Item Name\" ')\n",
    "print(uniqueValues)"
   ]
  },
  {
   "cell_type": "code",
   "execution_count": null,
   "metadata": {},
   "outputs": [],
   "source": [
    "uniqueValues = data['Item Name'].nunique()\n",
    "print('Number of unique values in column \"Item Name\" of the dataframe : ')\n",
    "print(uniqueValues)"
   ]
  },
  {
   "cell_type": "code",
   "execution_count": null,
   "metadata": {},
   "outputs": [],
   "source": [
    "MeanPrices = data.groupby(['Item Name','year']).mean()\n",
    "print(\"Mean Prices for all the items on yearwise basis\")\n",
    "display(MeanPrices)"
   ]
  },
  {
   "cell_type": "code",
   "execution_count": null,
   "metadata": {},
   "outputs": [],
   "source": [
    "#Save records where price is null or 0 for the items in null prices dataframe\n",
    "print(\"Null Prices Dataset containing null and 0 values for price\")\n",
    "nullPrices = data[(data['price'].isnull()) | (data['price']== 0)]\n",
    "display(nullPrices)"
   ]
  },
  {
   "cell_type": "code",
   "execution_count": null,
   "metadata": {},
   "outputs": [],
   "source": []
  },
  {
   "cell_type": "code",
   "execution_count": null,
   "metadata": {},
   "outputs": [],
   "source": [
    "#Remove rows where price is null or price is 0 as we will assign mean values for them later\n",
    "\n",
    "data = data[~((data['price'].isnull()) | (data['price']== 0))]\n",
    "print(\"Removing null and 0 prices from the training dataset for feature engineering\")\n",
    "display(data)"
   ]
  },
  {
   "cell_type": "code",
   "execution_count": null,
   "metadata": {},
   "outputs": [],
   "source": [
    "print(\"Assigning Mean Price to training set data where price is 0 or Nan\")\n",
    "nullPrices = pd.merge(nullPrices,MeanPrices,left_on=['Item Name','year'],right_on=['Item Name','year'])\n",
    "display(nullPrices.drop(columns=['price_x']))\n",
    "\n",
    "df = pd.DataFrame({\"Item Name\":nullPrices['Item Name'], \n",
    "                    \"year\":nullPrices['year'],\"price\":nullPrices['price_y']}) \n",
    "train_data = data.append(df)\n",
    "display(\"Combine dataset after feature engineering\")\n",
    "display(train_data)"
   ]
  },
  {
   "cell_type": "code",
   "execution_count": null,
   "metadata": {},
   "outputs": [],
   "source": [
    "#price cannot be zero so filter out data where price is around zero\n",
    "train_data = train_data[(train_data['price']> 1)]\n",
    "backup = train_data\n",
    "print(\"Backup\")\n",
    "display(backup)"
   ]
  },
  {
   "cell_type": "code",
   "execution_count": null,
   "metadata": {},
   "outputs": [],
   "source": [
    "\n",
    "train_data = pd.get_dummies(train_data).reset_index(drop=True)\n",
    "sns.displot(train_data['price']);\n",
    "\n",
    "print(\"Skewness: \" + str(train_data['price'].skew()))\n",
    "\n",
    "\n",
    "plt.savefig(\"skewness.png\") # save as png"
   ]
  },
  {
   "cell_type": "code",
   "execution_count": null,
   "metadata": {},
   "outputs": [],
   "source": [
    "#Histogram is not normally distributed\n",
    "#sns.distplot(train_data['price']);\n",
    "#applying log transformation\n",
    "train_data['price'] = np.log(train_data['price'])\n",
    "sns.displot(train_data['price']);\n",
    "plt.savefig(\"histogram.png\")"
   ]
  },
  {
   "cell_type": "code",
   "execution_count": null,
   "metadata": {},
   "outputs": [],
   "source": [
    "train_output = train_data['price']\n",
    "#Remove target output column Price from training dataset\n",
    "train_data.drop(columns='price',inplace=True)\n",
    "print(\"Training Dataset\")\n",
    "display(train_data)\n",
    "\n",
    "X_train, X_test, y_train, y_test = train_test_split(train_data, train_output, test_size = 0.1, random_state = 0)\n",
    "regressor = LinearRegression()\n",
    "regressor.fit(X_train, y_train)\n",
    "\n",
    "y_pred = regressor.predict(X_test)\n",
    "mean_squared_error(y_pred,y_test)"
   ]
  },
  {
   "cell_type": "code",
   "execution_count": null,
   "metadata": {},
   "outputs": [],
   "source": [
    "#Preparing Test Data for 2021 Price predictions\n",
    "test_data = pd.DataFrame(columns = [ 'year','Item Name'])\n",
    "#Since there are 330 unique items predicting prices for these items in 2021 year\n",
    "for item in backup['Item Name'].unique():\n",
    "    test_data = test_data.append({'Item Name': str(item), 'year':2021},ignore_index=True)\n",
    "\n",
    "display(test_data)"
   ]
  },
  {
   "cell_type": "code",
   "execution_count": null,
   "metadata": {},
   "outputs": [],
   "source": [
    "#One Hot Encoding"
   ]
  },
  {
   "cell_type": "code",
   "execution_count": null,
   "metadata": {},
   "outputs": [],
   "source": [
    "test_data_one_hot = pd.get_dummies(test_data).reset_index(drop=True)\n",
    "\n",
    "test_data_one_hot.rename(columns ={'year_2021':'year'},inplace=True)\n",
    "test_data_one_hot['year'] = 2021\n",
    "\n",
    "print(\"Testing Data\")\n",
    "display(test_data_one_hot)"
   ]
  },
  {
   "cell_type": "code",
   "execution_count": null,
   "metadata": {},
   "outputs": [],
   "source": [
    "regressor.fit(train_data, train_output)\n",
    "\n",
    "predictions = regressor.predict(test_data_one_hot)\n",
    "#print(predictions)\n",
    "\n",
    "preds = pd.DataFrame()\n",
    "#convert the logarithmic values to normal form\n",
    "preds['price'] =np.exp(predictions)\n",
    "preds['Item Name'] = test_data['Item Name']\n",
    "preds['year'] = test_data['year']\n",
    "print(\"Average price predictions for 2021 year \")\n",
    "display(preds)"
   ]
  },
  {
   "cell_type": "code",
   "execution_count": null,
   "metadata": {},
   "outputs": [],
   "source": [
    "result_df = preds[['Item Name','price']]"
   ]
  },
  {
   "cell_type": "code",
   "execution_count": null,
   "metadata": {},
   "outputs": [],
   "source": [
    "result_df.head()"
   ]
  },
  {
   "cell_type": "code",
   "execution_count": null,
   "metadata": {},
   "outputs": [],
   "source": [
    "result_df.tail()"
   ]
  },
  {
   "cell_type": "code",
   "execution_count": null,
   "metadata": {},
   "outputs": [],
   "source": [
    "result_df.to_csv('Predict_vegetable_2021_price.csv')"
   ]
  }
 ],
 "metadata": {
  "kernelspec": {
   "display_name": "Python 3",
   "language": "python",
   "name": "python3"
  },
  "language_info": {
   "codemirror_mode": {
    "name": "ipython",
    "version": 3
   },
   "file_extension": ".py",
   "mimetype": "text/x-python",
   "name": "python",
   "nbconvert_exporter": "python",
   "pygments_lexer": "ipython3",
   "version": "3.8.5"
  }
 },
 "nbformat": 4,
 "nbformat_minor": 4
}
